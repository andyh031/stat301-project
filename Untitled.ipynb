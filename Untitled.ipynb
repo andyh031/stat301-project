{
 "cells": [
  {
   "cell_type": "code",
   "execution_count": null,
   "id": "d2c26acb-2c02-4628-bdbd-c8676b610c87",
   "metadata": {},
   "outputs": [],
   "source": []
  }
 ],
 "metadata": {
  "kernelspec": {
   "display_name": "R",
   "language": "R",
   "name": "ir"
  },
  "language_info": {
   "codemirror_mode": "r",
   "file_extension": ".r",
   "mimetype": "text/x-r-source",
   "name": "R",
   "pygments_lexer": "r",
   "version": "4.3.3"
  }
 },
 "nbformat": 4,
 "nbformat_minor": 5
}
